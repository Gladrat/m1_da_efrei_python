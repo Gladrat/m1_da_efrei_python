{
 "cells": [
  {
   "cell_type": "code",
   "execution_count": 4,
   "id": "187a95ea",
   "metadata": {},
   "outputs": [],
   "source": [
    "import pandas as pd"
   ]
  },
  {
   "cell_type": "code",
   "execution_count": 6,
   "id": "aed03f16",
   "metadata": {},
   "outputs": [
    {
     "data": {
      "application/vnd.microsoft.datawrangler.viewer.v0+json": {
       "columns": [
        {
         "name": "index",
         "rawType": "int64",
         "type": "integer"
        },
        {
         "name": "Unnamed: 0",
         "rawType": "int64",
         "type": "integer"
        },
        {
         "name": "customer_id",
         "rawType": "float64",
         "type": "float"
        },
        {
         "name": "country",
         "rawType": "object",
         "type": "unknown"
        },
        {
         "name": "gender",
         "rawType": "object",
         "type": "unknown"
        },
        {
         "name": "age",
         "rawType": "float64",
         "type": "float"
        },
        {
         "name": "purchase_amount",
         "rawType": "float64",
         "type": "float"
        },
        {
         "name": "payment",
         "rawType": "object",
         "type": "unknown"
        }
       ],
       "ref": "c6efeef0-d3e8-431a-ad39-c26ed09e55db",
       "rows": [
        [
         "0",
         "0",
         "1.0",
         "France",
         "Male",
         "44.0",
         "74.14",
         "cb"
        ],
        [
         "1",
         "1",
         "2.0",
         "France",
         "Female",
         "18.0",
         "43.38",
         "cash"
        ],
        [
         "2",
         "2",
         "3.0",
         "France",
         "Male",
         "16.0",
         "24.8",
         "cb"
        ],
        [
         "3",
         "3",
         "4.0",
         "France",
         "Female",
         "57.0",
         "113.53",
         "paypal"
        ],
        [
         "4",
         "4",
         "5.0",
         "France",
         "Female",
         "31.0",
         "58.49",
         "cb"
        ],
        [
         "5",
         "5",
         "6.0",
         "USA",
         "Female",
         "39.0",
         "67.32",
         "paypal"
        ],
        [
         "6",
         "6",
         "7.0",
         "France",
         "Male",
         "53.0",
         "109.8",
         "cb"
        ],
        [
         "7",
         "7",
         "8.0",
         "France",
         "Male",
         "18.0",
         "109.7",
         "paypal"
        ],
        [
         "8",
         "8",
         "9.0",
         "USA",
         "Male",
         "34.0",
         "141.0",
         "paypal"
        ],
        [
         "9",
         "9",
         "10.0",
         "France",
         "Female",
         "19.0",
         "100.2",
         "cash"
        ],
        [
         "10",
         "10",
         "11.0",
         "France",
         "Female",
         "58.0",
         "50.27",
         "paypal"
        ],
        [
         "11",
         "11",
         "12.0",
         "USA",
         "Female",
         "27.0",
         "61.22",
         "paypal"
        ],
        [
         "12",
         "12",
         "13.0",
         "France",
         "Female",
         "47.0",
         "33.76",
         "cb"
        ],
        [
         "13",
         "13",
         "14.0",
         "USA",
         "Male",
         "36.0",
         "135.1",
         "cash"
        ],
        [
         "14",
         "14",
         "15.0",
         "France",
         "Female",
         "59.0",
         "50.07",
         "cash"
        ],
        [
         "15",
         "15",
         "16.0",
         "USA",
         "Female",
         "42.0",
         "56.14",
         "cash"
        ],
        [
         "16",
         "16",
         "17.0",
         "France",
         "Female",
         "46.0",
         "98.71",
         "cb"
        ],
        [
         "17",
         "17",
         "18.0",
         "France",
         "Male",
         "59.0",
         "75.46",
         "paypal"
        ],
        [
         "18",
         "18",
         "19.0",
         "France",
         "Female",
         "49.0",
         "65.08",
         "paypal"
        ],
        [
         "19",
         "19",
         "20.0",
         "France",
         "Female",
         "45.0",
         "131.54",
         "cash"
        ],
        [
         "20",
         "20",
         "21.0",
         "USA",
         "Female",
         "20.0",
         "102.38",
         "cash"
        ],
        [
         "21",
         "21",
         "22.0",
         "France",
         "Female",
         "29.0",
         "141.62",
         "cash"
        ],
        [
         "22",
         "22",
         "23.0",
         "USA",
         "Female",
         "41.0",
         "130.36",
         "cash"
        ],
        [
         "23",
         "23",
         "24.0",
         "USA",
         "Female",
         "43.0",
         "92.54",
         "cash"
        ],
        [
         "24",
         "24",
         "25.0",
         "USA",
         "Female",
         "45.0",
         "77.75",
         "paypal"
        ],
        [
         "25",
         "25",
         "26.0",
         "USA",
         "Female",
         "39.0",
         "84.98",
         "cash"
        ],
        [
         "26",
         "26",
         "27.0",
         "France",
         "Male",
         "27.0",
         "138.96",
         "paypal"
        ],
        [
         "27",
         "27",
         "28.0",
         "France",
         "Female",
         "34.0",
         "73.09",
         "cash"
        ],
        [
         "28",
         "28",
         "29.0",
         "France",
         "Female",
         "36.0",
         "143.63",
         "cb"
        ],
        [
         "29",
         "29",
         "30.0",
         "France",
         "Male",
         "42.0",
         "79.63",
         "cash"
        ],
        [
         "30",
         "30",
         "31.0",
         "France",
         "Female",
         "18.0",
         "132.4",
         "paypal"
        ],
        [
         "31",
         "31",
         "32.0",
         "France",
         "Male",
         "35.0",
         "129.68",
         "paypal"
        ],
        [
         "32",
         "32",
         "33.0",
         "France",
         "Female",
         "28.0",
         "25.67",
         "cb"
        ],
        [
         "33",
         "33",
         "34.0",
         "France",
         "Male",
         "29.0",
         "104.31",
         "cash"
        ],
        [
         "34",
         "34",
         "35.0",
         "USA",
         "Male",
         "35.0",
         "67.53",
         "cb"
        ],
        [
         "35",
         "35",
         "36.0",
         "USA",
         "Male",
         "38.0",
         "23.29",
         "cb"
        ],
        [
         "36",
         "36",
         "37.0",
         "France",
         "Male",
         "45.0",
         "59.93",
         "paypal"
        ],
        [
         "37",
         "37",
         "38.0",
         "USA",
         "Female",
         "29.0",
         "67.37",
         "paypal"
        ],
        [
         "38",
         "38",
         "39.0",
         "USA",
         "Male",
         "56.0",
         "50.88",
         "paypal"
        ],
        [
         "39",
         "39",
         "40.0",
         "USA",
         "Male",
         "43.0",
         "65.56",
         "paypal"
        ],
        [
         "40",
         "40",
         "41.0",
         "France",
         "Female",
         "25.0",
         "44.79",
         "paypal"
        ],
        [
         "41",
         "41",
         "42.0",
         "France",
         "Female",
         "46.0",
         "22.99",
         "cb"
        ],
        [
         "42",
         "42",
         "43.0",
         "France",
         "Female",
         "17.0",
         "20.42",
         "cash"
        ],
        [
         "43",
         "43",
         "44.0",
         "France",
         "Male",
         "37.0",
         "113.38",
         "cb"
        ],
        [
         "44",
         "44",
         "45.0",
         "USA",
         "Female",
         "58.0",
         "112.55",
         "cb"
        ],
        [
         "45",
         "45",
         "46.0",
         "USA",
         "Female",
         "33.0",
         "142.36",
         "cash"
        ],
        [
         "46",
         "46",
         "47.0",
         "France",
         "Male",
         "30.0",
         "41.34",
         "cb"
        ],
        [
         "47",
         "47",
         "48.0",
         "France",
         "Female",
         "16.0",
         "121.12",
         "cb"
        ],
        [
         "48",
         "48",
         "49.0",
         "France",
         "Female",
         "40.0",
         "83.12",
         "cash"
        ],
        [
         "49",
         "49",
         "50.0",
         "France",
         "Female",
         "46.0",
         "128.56",
         "paypal"
        ]
       ],
       "shape": {
        "columns": 7,
        "rows": 50000
       }
      },
      "text/html": [
       "<div>\n",
       "<style scoped>\n",
       "    .dataframe tbody tr th:only-of-type {\n",
       "        vertical-align: middle;\n",
       "    }\n",
       "\n",
       "    .dataframe tbody tr th {\n",
       "        vertical-align: top;\n",
       "    }\n",
       "\n",
       "    .dataframe thead th {\n",
       "        text-align: right;\n",
       "    }\n",
       "</style>\n",
       "<table border=\"1\" class=\"dataframe\">\n",
       "  <thead>\n",
       "    <tr style=\"text-align: right;\">\n",
       "      <th></th>\n",
       "      <th>Unnamed: 0</th>\n",
       "      <th>customer_id</th>\n",
       "      <th>country</th>\n",
       "      <th>gender</th>\n",
       "      <th>age</th>\n",
       "      <th>purchase_amount</th>\n",
       "      <th>payment</th>\n",
       "    </tr>\n",
       "  </thead>\n",
       "  <tbody>\n",
       "    <tr>\n",
       "      <th>0</th>\n",
       "      <td>0</td>\n",
       "      <td>1.0</td>\n",
       "      <td>France</td>\n",
       "      <td>Male</td>\n",
       "      <td>44.0</td>\n",
       "      <td>74.14</td>\n",
       "      <td>cb</td>\n",
       "    </tr>\n",
       "    <tr>\n",
       "      <th>1</th>\n",
       "      <td>1</td>\n",
       "      <td>2.0</td>\n",
       "      <td>France</td>\n",
       "      <td>Female</td>\n",
       "      <td>18.0</td>\n",
       "      <td>43.38</td>\n",
       "      <td>cash</td>\n",
       "    </tr>\n",
       "    <tr>\n",
       "      <th>2</th>\n",
       "      <td>2</td>\n",
       "      <td>3.0</td>\n",
       "      <td>France</td>\n",
       "      <td>Male</td>\n",
       "      <td>16.0</td>\n",
       "      <td>24.80</td>\n",
       "      <td>cb</td>\n",
       "    </tr>\n",
       "    <tr>\n",
       "      <th>3</th>\n",
       "      <td>3</td>\n",
       "      <td>4.0</td>\n",
       "      <td>France</td>\n",
       "      <td>Female</td>\n",
       "      <td>57.0</td>\n",
       "      <td>113.53</td>\n",
       "      <td>paypal</td>\n",
       "    </tr>\n",
       "    <tr>\n",
       "      <th>4</th>\n",
       "      <td>4</td>\n",
       "      <td>5.0</td>\n",
       "      <td>France</td>\n",
       "      <td>Female</td>\n",
       "      <td>31.0</td>\n",
       "      <td>58.49</td>\n",
       "      <td>cb</td>\n",
       "    </tr>\n",
       "    <tr>\n",
       "      <th>...</th>\n",
       "      <td>...</td>\n",
       "      <td>...</td>\n",
       "      <td>...</td>\n",
       "      <td>...</td>\n",
       "      <td>...</td>\n",
       "      <td>...</td>\n",
       "      <td>...</td>\n",
       "    </tr>\n",
       "    <tr>\n",
       "      <th>49995</th>\n",
       "      <td>49995</td>\n",
       "      <td>49996.0</td>\n",
       "      <td>France</td>\n",
       "      <td>Female</td>\n",
       "      <td>52.0</td>\n",
       "      <td>24.51</td>\n",
       "      <td>paypal</td>\n",
       "    </tr>\n",
       "    <tr>\n",
       "      <th>49996</th>\n",
       "      <td>49996</td>\n",
       "      <td>49997.0</td>\n",
       "      <td>USA</td>\n",
       "      <td>elaM</td>\n",
       "      <td>58.0</td>\n",
       "      <td>145.38</td>\n",
       "      <td>paypal</td>\n",
       "    </tr>\n",
       "    <tr>\n",
       "      <th>49997</th>\n",
       "      <td>49997</td>\n",
       "      <td>49998.0</td>\n",
       "      <td>USA</td>\n",
       "      <td>Female</td>\n",
       "      <td>15.0</td>\n",
       "      <td>32.24</td>\n",
       "      <td>cb</td>\n",
       "    </tr>\n",
       "    <tr>\n",
       "      <th>49998</th>\n",
       "      <td>49998</td>\n",
       "      <td>49999.0</td>\n",
       "      <td>USA</td>\n",
       "      <td>Male</td>\n",
       "      <td>54.0</td>\n",
       "      <td>23.77</td>\n",
       "      <td>paypal</td>\n",
       "    </tr>\n",
       "    <tr>\n",
       "      <th>49999</th>\n",
       "      <td>49999</td>\n",
       "      <td>50000.0</td>\n",
       "      <td>France</td>\n",
       "      <td>Male</td>\n",
       "      <td>54.0</td>\n",
       "      <td>112.76</td>\n",
       "      <td>paypal</td>\n",
       "    </tr>\n",
       "  </tbody>\n",
       "</table>\n",
       "<p>50000 rows × 7 columns</p>\n",
       "</div>"
      ],
      "text/plain": [
       "       Unnamed: 0  customer_id country  gender   age  purchase_amount payment\n",
       "0               0          1.0  France    Male  44.0            74.14      cb\n",
       "1               1          2.0  France  Female  18.0            43.38    cash\n",
       "2               2          3.0  France    Male  16.0            24.80      cb\n",
       "3               3          4.0  France  Female  57.0           113.53  paypal\n",
       "4               4          5.0  France  Female  31.0            58.49      cb\n",
       "...           ...          ...     ...     ...   ...              ...     ...\n",
       "49995       49995      49996.0  France  Female  52.0            24.51  paypal\n",
       "49996       49996      49997.0     USA    elaM  58.0           145.38  paypal\n",
       "49997       49997      49998.0     USA  Female  15.0            32.24      cb\n",
       "49998       49998      49999.0     USA    Male  54.0            23.77  paypal\n",
       "49999       49999      50000.0  France    Male  54.0           112.76  paypal\n",
       "\n",
       "[50000 rows x 7 columns]"
      ]
     },
     "execution_count": 6,
     "metadata": {},
     "output_type": "execute_result"
    }
   ],
   "source": [
    "df = pd.read_csv(\"./customers.csv\")\n",
    "df"
   ]
  },
  {
   "cell_type": "code",
   "execution_count": 23,
   "id": "a7eb76ba",
   "metadata": {},
   "outputs": [
    {
     "data": {
      "application/vnd.microsoft.datawrangler.viewer.v0+json": {
       "columns": [
        {
         "name": "index",
         "rawType": "int64",
         "type": "integer"
        },
        {
         "name": "Unnamed: 0",
         "rawType": "int64",
         "type": "integer"
        },
        {
         "name": "customer_id",
         "rawType": "float64",
         "type": "float"
        },
        {
         "name": "country",
         "rawType": "object",
         "type": "string"
        },
        {
         "name": "gender",
         "rawType": "object",
         "type": "string"
        },
        {
         "name": "age",
         "rawType": "float64",
         "type": "float"
        },
        {
         "name": "purchase_amount",
         "rawType": "float64",
         "type": "float"
        },
        {
         "name": "payment",
         "rawType": "object",
         "type": "string"
        }
       ],
       "ref": "32bc8326-667c-4598-afa5-46cc30c160ca",
       "rows": [
        [
         "3",
         "3",
         "4.0",
         "France",
         "Female",
         "57.0",
         "113.53",
         "paypal"
        ],
        [
         "6",
         "6",
         "7.0",
         "France",
         "Male",
         "53.0",
         "109.8",
         "cb"
        ],
        [
         "7",
         "7",
         "8.0",
         "France",
         "Male",
         "18.0",
         "109.7",
         "paypal"
        ],
        [
         "8",
         "8",
         "9.0",
         "USA",
         "Male",
         "34.0",
         "141.0",
         "paypal"
        ],
        [
         "9",
         "9",
         "10.0",
         "France",
         "Female",
         "19.0",
         "100.2",
         "cash"
        ]
       ],
       "shape": {
        "columns": 7,
        "rows": 5
       }
      },
      "text/html": [
       "<div>\n",
       "<style scoped>\n",
       "    .dataframe tbody tr th:only-of-type {\n",
       "        vertical-align: middle;\n",
       "    }\n",
       "\n",
       "    .dataframe tbody tr th {\n",
       "        vertical-align: top;\n",
       "    }\n",
       "\n",
       "    .dataframe thead th {\n",
       "        text-align: right;\n",
       "    }\n",
       "</style>\n",
       "<table border=\"1\" class=\"dataframe\">\n",
       "  <thead>\n",
       "    <tr style=\"text-align: right;\">\n",
       "      <th></th>\n",
       "      <th>Unnamed: 0</th>\n",
       "      <th>customer_id</th>\n",
       "      <th>country</th>\n",
       "      <th>gender</th>\n",
       "      <th>age</th>\n",
       "      <th>purchase_amount</th>\n",
       "      <th>payment</th>\n",
       "    </tr>\n",
       "  </thead>\n",
       "  <tbody>\n",
       "    <tr>\n",
       "      <th>3</th>\n",
       "      <td>3</td>\n",
       "      <td>4.0</td>\n",
       "      <td>France</td>\n",
       "      <td>Female</td>\n",
       "      <td>57.0</td>\n",
       "      <td>113.53</td>\n",
       "      <td>paypal</td>\n",
       "    </tr>\n",
       "    <tr>\n",
       "      <th>6</th>\n",
       "      <td>6</td>\n",
       "      <td>7.0</td>\n",
       "      <td>France</td>\n",
       "      <td>Male</td>\n",
       "      <td>53.0</td>\n",
       "      <td>109.80</td>\n",
       "      <td>cb</td>\n",
       "    </tr>\n",
       "    <tr>\n",
       "      <th>7</th>\n",
       "      <td>7</td>\n",
       "      <td>8.0</td>\n",
       "      <td>France</td>\n",
       "      <td>Male</td>\n",
       "      <td>18.0</td>\n",
       "      <td>109.70</td>\n",
       "      <td>paypal</td>\n",
       "    </tr>\n",
       "    <tr>\n",
       "      <th>8</th>\n",
       "      <td>8</td>\n",
       "      <td>9.0</td>\n",
       "      <td>USA</td>\n",
       "      <td>Male</td>\n",
       "      <td>34.0</td>\n",
       "      <td>141.00</td>\n",
       "      <td>paypal</td>\n",
       "    </tr>\n",
       "    <tr>\n",
       "      <th>9</th>\n",
       "      <td>9</td>\n",
       "      <td>10.0</td>\n",
       "      <td>France</td>\n",
       "      <td>Female</td>\n",
       "      <td>19.0</td>\n",
       "      <td>100.20</td>\n",
       "      <td>cash</td>\n",
       "    </tr>\n",
       "  </tbody>\n",
       "</table>\n",
       "</div>"
      ],
      "text/plain": [
       "   Unnamed: 0  customer_id country  gender   age  purchase_amount payment\n",
       "3           3          4.0  France  Female  57.0           113.53  paypal\n",
       "6           6          7.0  France    Male  53.0           109.80      cb\n",
       "7           7          8.0  France    Male  18.0           109.70  paypal\n",
       "8           8          9.0     USA    Male  34.0           141.00  paypal\n",
       "9           9         10.0  France  Female  19.0           100.20    cash"
      ]
     },
     "execution_count": 23,
     "metadata": {},
     "output_type": "execute_result"
    }
   ],
   "source": [
    "\"\"\"\n",
    "Cellule générée par Data Wrangler.\n",
    "\"\"\"\n",
    "def clean_data(df):\n",
    "    # Filtrer les lignes en fonction de la colonne : 'purchase_amount'\n",
    "    df = df[df['purchase_amount'] > 100]\n",
    "    return df\n",
    "\n",
    "df_clean = clean_data(df.copy())\n",
    "df_clean.head()"
   ]
  },
  {
   "cell_type": "code",
   "execution_count": 25,
   "id": "4dab444c",
   "metadata": {},
   "outputs": [
    {
     "data": {
      "text/plain": [
       "np.float64(575.0)"
      ]
     },
     "execution_count": 25,
     "metadata": {},
     "output_type": "execute_result"
    }
   ],
   "source": [
    "df_clean[((df_clean[\"age\"] > 50) & (df_clean[\"country\"] == \"France\"))][\"purchase_amount\"].mean().round()"
   ]
  }
 ],
 "metadata": {
  "kernelspec": {
   "display_name": "Python 3",
   "language": "python",
   "name": "python3"
  },
  "language_info": {
   "codemirror_mode": {
    "name": "ipython",
    "version": 3
   },
   "file_extension": ".py",
   "mimetype": "text/x-python",
   "name": "python",
   "nbconvert_exporter": "python",
   "pygments_lexer": "ipython3",
   "version": "3.13.7"
  }
 },
 "nbformat": 4,
 "nbformat_minor": 5
}
